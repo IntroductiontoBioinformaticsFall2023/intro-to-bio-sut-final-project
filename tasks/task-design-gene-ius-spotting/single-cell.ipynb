{
 "cells": [
  {
   "cell_type": "markdown",
   "metadata": {},
   "source": [
    "# ⚠ ⚠ ⚠ THIS NOTEBOOK WAS ORIGINALY WRITTEN IN COLAB ⚠ ⚠ ⚠"
   ]
  },
  {
   "cell_type": "markdown",
   "metadata": {},
   "source": [
    "# Unveiling the Shortcomings of RNA-Seq Through Gene Expression Analysis and the Advantages of Single-Cell Techniques\n"
   ]
  },
  {
   "cell_type": "markdown",
   "metadata": {},
   "source": [
    "##  Traditional RNA Sequencing\n",
    "\n",
    "In the world of biology, RNA sequencing (RNA-seq) is like a super helpful tool that has changed the way we understand genes and how they work. Traditional RNA sequencing is an important method that helps us figure out what's going on inside cells by looking at all the messages (transcripts) they make. Before this method, we used other ways that weren't as good at giving us the whole picture.\n",
    "\n",
    "RNA-seq is like decoding the language of RNA, the messages cells use to do their jobs. It helps us see all the different messages in a cell at a specific time. This method is really useful for studying how genes are turned on or off, how cells develop, and even finding new types of RNA that don't code for proteins. Traditional RNA sequencing has been super important in many areas of biology, like understanding how bodies grow or finding out more about diseases like cancer.\n"
   ]
  },
  {
   "cell_type": "markdown",
   "metadata": {},
   "source": [
    "## Gene Expression Analysis\n",
    "\n",
    "Imagine genes as the instruction manuals for building and running everything in our bodies. Gene expression analysis is like reading those instructions to understand which genes are active and how much they are doing their jobs at a specific time. This method is crucial for uncovering the secrets of how our cells work and respond to different conditions.\n",
    "\n",
    "Gene expression is the process by which information from genes is used to create functional products, mainly proteins. Gene expression analysis allows scientists to study which genes are \"talking\" or \"quiet\" in a cell or tissue. Traditional methods of gene expression analysis have been vital in providing insights into the inner workings of genes within living organisms.\n",
    "\n",
    "Unlike older techniques, gene expression analysis helps us look at many genes at once, providing a comprehensive view of the genetic activity. This method has been an impactful in many fields like medicine.\n"
   ]
  },
  {
   "cell_type": "markdown",
   "metadata": {},
   "source": [
    "---\n",
    "\n",
    "### Methods\n",
    "\n",
    "Several methods are commonly used to perform gene expression analysis, each with its own strengths and limitations\n",
    "\n",
    "1- Reverse Transcription Polymerase Chain Reaction (RT-PCR):\n",
    "\n",
    "Converts RNA into complementary DNA (cDNA) and amplifies specific target sequences. It leverages Quantitative analysis of gene expression for a selected set of genes.\n",
    "Pros are: High sensitivity, specificity, and quantification precision.\n",
    "\n",
    "2- Microarrays:\n",
    "\n",
    "Utilizes nucleic acid probes to measure the relative abundance of transcripts with the ability to analyze multiple genes simultaneously.\n",
    "Can perform Simultaneous analysis of thousands of genes, useful for large-scale screening.\n",
    "\n",
    "3- RNA Sequencing (RNA-Seq):\n",
    "\n",
    "High-throughput sequencing of RNA molecules provides a comprehensive view of the transcriptome. used for Profiling entire transcriptomes, identifying novel transcripts, and quantifying gene expression levels.\n",
    "It is Unbiased and can detect known and novel transcripts with high sensitivity.\n",
    "\n",
    "4- Northern Blotting:\n",
    "\n",
    "Separates RNA molecules based on size and detects specific transcripts using labeled probes.\n",
    "Application: Confirmation of gene expression levels and determination of transcript sizes. It is Useful for studying specific RNA species.\n",
    "\n",
    "5- Single-Cell RNA Sequencing (scRNA-Seq):\n",
    "\n",
    "Extends the capabilities of traditional RNA-Seq to analyze gene expression at the single-cell level, providing insights into cellular heterogeneity. With single‐cell RNA sequencing, it is now possible to analyse the transcriptome at single‐cell level for over millions of cells in a single study. This allows us to classify, characterize and distinguish each cell at the transcriptome level, which leads to identify rare cell population but functionally important.\n",
    "\n",
    "Mainly used for Profiling gene expression in individual cells, and uncovering unique cell types and states.\n",
    "This Enables the study of rare cell populations, identifies cell-to-cell variability, and unveils intricate cellular dynamics.\n"
   ]
  },
  {
   "cell_type": "markdown",
   "metadata": {},
   "source": [
    "### RNA sequencing\n",
    "RNA sequencing, known as RNA-seq, is a vital tool for studying gene activity in biological systems. Unlike older methods, RNA-seq doesn't focus on specific genes but gives a broad view of all active genes in cells. It's like a detective, uncovering both known and new genetic elements without preconceived notions.\n",
    "\n",
    "RNA-seq extracts gene transcripts from cells, converts them into readable data, and interprets their contents. It's highly valued by scientists for understanding gene behavior during growth, illness, and responses to the environment. Like a powerful microscope, RNA-seq dives deep into gene activities, revealing intricate details.\n",
    "\n",
    "One main aim of RNA-seq is to identify genes that are expressed differently and work together, providing insights for further research. It measures RNA abundance, which carries genetic information from DNA to make proteins. By sequencing RNA, scientists can quantify gene expression, spot alternative splicing, discover new transcripts, and explore non-coding RNA."
   ]
  },
  {
   "cell_type": "markdown",
   "metadata": {},
   "source": [
    "### Single-cell analysis\n",
    "\n",
    "Single-cell RNA sequencing (scRNA-seq) is a powerful technique used in molecular biology to study gene expression at the single-cell level. It allows researchers to profile the transcriptome of individual cells, providing insights into cellular heterogeneity and identifying distinct cell types within a tissue or sample.\n",
    "\n",
    "By analyzing gene expression at the single-cell level, scRNA-seq enables researchers to gain insights into the diversity of cell types, identify rare cell populations, characterize cell states, and study cellular dynamics in various biological processes, such as development, disease progression, or response to treatments.\n",
    "\n",
    "It's important to note that scRNA-seq is a rapidly evolving field, and new methods and technologies are continuously being developed to improve sensitivity, throughput, and the ability to capture additional molecular features beyond gene expression, such as chromatin accessibility or protein levels.\n"
   ]
  },
  {
   "cell_type": "markdown",
   "metadata": {},
   "source": [
    "---\n",
    "\n",
    "### Bulk vs Single :\n",
    "\n",
    "In bulk RNA-seq, RNA is extracted from a population of cells, and the RNA from all cells is combined before sequencing. This approach provides an average gene expression profile for the entire cell population.\n",
    "Application: Bulk RNA-seq is suitable for studying gene expression patterns in tissues or cell populations, providing an overview of the average transcriptional activity within the sample.\n",
    "Single-Cell RNA-Seq (scRNA-Seq):\n",
    "\n",
    "In single-cell  RNA-seq, RNA is sequenced from individual cells separately. This allows for the investigation of gene expression at the level of individual cells, providing insights into cellular heterogeneity and allowing the identification of rare cell types.\n",
    "Application: scRNA-Seq is valuable for exploring cellular diversity, understanding cell-to-cell variability, and unraveling the dynamics of gene expression at the single-cell level.\n",
    "Both bulk RNA-seq and scRNA-seq have their advantages and limitations, and the choice between them depends on the specific research goals. Bulk RNA-seq is suitable for obtaining an average gene expression profile from a population, while scRNA-seq is ideal for investigating cellular heterogeneity and dynamics within a sample. Researchers often choose the method that aligns with the specific biological questions they aim to address.\n",
    "\n",
    "So, Bulk RNA sequencing (bulk RNA-seq) provides an average gene expression profile for a population of cells, while Single-cell RNA sequencing (scRNA-seq) allows for the study of gene expression in individual cells. The choice between these methods depends on the research aims, with bulk RNA-seq being useful for studying overall trends and differences in gene expression between conditions, and scRNA-seq providing a more detailed view of cellular heterogeneity and the transcriptional landscape of individual cells.\n",
    "\n",
    "\n",
    "  **Bulk RNA-seq:**\n",
    "  1. Sample Homogenization: Bulk RNA-seq involves sequencing the RNA from a pool of cells. The cells are typically collected, lysed, and their RNA is pooled together for sequencing. As a result, bulk RNA-seq provides an average gene expression profile for the entire cell population.\n",
    "  \n",
    "  2. Low Resolution: Bulk RNA-seq offers a global view of gene expression changes in a cell population but lacks the ability to capture heterogeneity within the population. It cannot distinguish gene expression differences among individual cells.\n",
    "  \n",
    "  3. Limited Insights into Rare Cell Types: Bulk RNA-seq is not well-suited for identifying rare cell types or cells with distinct gene expression patterns, as they may get masked by the overall expression of the majority cell population.\n",
    "  \n",
    "  Single-Cell RNA-seq (scRNA-seq):\n",
    "\n",
    "  1. Cellular Resolution: scRNA-seq allows the sequencing of individual cells, providing gene expression profiles at a single-cell resolution. This enables the study of cellular heterogeneity within a population and the identification of rare cell types or cell states.\n",
    "  \n",
    "  2. Cell Type Identification: scRNA-seq data can be used to identify different cell types within a heterogeneous tissue or sample based on their unique gene expression signatures. This is valuable for characterizing cell types in complex tissues or during development.\n",
    "  \n",
    "  3. Trajectory Analysis: scRNA-seq data can be used to study cell differentiation and developmental trajectories, allowing researchers to understand how cells change over time and in response to different conditions.\n",
    "  \n",
    "  4. Discovery of Novel Cell States: scRNA-seq enables the discovery of previously unknown cell states or subpopulations that might be missed in bulk RNA-seq analysis.\n",
    "  \n",
    "  5. Identifying Cell-to-Cell Interactions: scRNA-seq can reveal cell-to-cell communication patterns and interactions within a tissue or microenvironment, providing insights into cellular crosstalk and signaling pathways.\n",
    "\n",
    "  The advantages of scRNA-seq data make it a powerful tool for understanding complex biological systems and exploring cellular diversity and dynamics.\n"
   ]
  },
  {
   "cell_type": "markdown",
   "metadata": {},
   "source": [
    "---\n",
    "\n",
    "### key steps and Methodology\n",
    "\n",
    "Here are the key steps involved in performing a single-cell RNA sequencing (scRNA-seq) experiment, simplified:\n",
    "\n",
    "1- Sample Prep and Collection: Prepare the sample and obtain single-cell suspensions.\n",
    "2- Cell Isolation: Isolate individual cells using methods like FACS or droplet-based platforms.\n",
    "3- RNA Extraction and Library Prep: Extract RNA from single cells and prepare cDNA libraries for sequencing.\n",
    "4- Sequencing: Perform high-throughput sequencing of the cDNA libraries.\n",
    "5- Quality Control and Preprocessing: Check for sequencing artifacts and remove biases from the data.\n",
    "6- Cell Barcode Assignment: Assign cell barcodes and unique molecular identifiers (UMIs) for droplet-based methods.\n",
    "7- Data Analysis: Analyze the scRNA-seq data to identify cell types and gene expression patterns.\n",
    "8- Cell Annotation and Characterization: Characterize different cell types or states based on known markers.\n",
    "9- Data Visualization: Visualize scRNA-seq data to understand cellular heterogeneity.\n",
    "10- Interpretation: Interpret the results to draw meaningful biological conclusions.\n",
    "\n",
    "And, here are the key steps involved in performing a RNA-seq experiment, simplified:\n",
    "\n",
    " Initially, biological samples are collected and prepared for RNA extraction, ensuring that RNA integrity is preserved. Following extraction, the RNA is converted into cDNA libraries suitable for sequencing through processes such as RNA fragmentation, reverse transcription, and adapter ligation. Subsequently, the cDNA libraries undergo high-throughput sequencing, generating millions of short or long reads representing RNA fragments. Quality control checks are performed on the raw sequencing data to assess read quality and remove artifacts. After preprocessing, the reads are aligned to a reference genome or transcriptome, and gene expression levels are quantified. Differential expression analysis compares gene expression between different conditions or experimental groups, identifying genes that are differentially expressed. Functional enrichment analysis interprets the biological significance of these genes, uncovering overrepresented pathways or biological processes. Visualization of the data using plots such as heatmaps or PCA plots aids in exploring gene expression patterns. The results are then interpreted in the context of the biological question being investigated, with validation performed using independent techniques to confirm the findings. Overall, RNA-Seq provides insights into gene expression regulation and biological processes, advancing our understanding of cellular functions and disease mechanisms.\n",
    "\n",
    "As we can see, they have overlapping steps."
   ]
  },
  {
   "cell_type": "markdown",
   "metadata": {},
   "source": [
    "Single-cell RNA sequencing (scRNA-seq) can go further to study additional molecular features like chromatin accessibility (scATAC-seq) and protein levels (single-cell proteomics). These \"single-cell multi-omics\" methods give a broader understanding of cellular biology by looking at multiple aspects simultaneously.\n",
    "\n",
    "Single-Cell ATAC-seq (scATAC-seq): This method measures chromatin accessibility in individual cells. It identifies open chromatin regions, showing where gene regulation might occur, like where transcription factors bind. This helps understand how genes are controlled within cells.\n",
    "\n",
    "Single-Cell Proteomics: This technique measures protein levels in individual cells. It uses methods like mass spectrometry or fluorescence to quantify specific proteins. This reveals details about cell signaling, protein interactions, and modifications after translation."
   ]
  },
  {
   "cell_type": "markdown",
   "metadata": {},
   "source": [
    "---\n",
    "\n",
    "### describing a Scenario\n",
    "\n",
    "Insect migration is an incredible journey where Insects travel between different places depending on the seasons. This phenomenon is essential for their survival and helps them find food, avoid harsh weather, and even find mates. Understanding how Insects navigate and manage their energy during these long trips is vital for protecting them and their habitats.\n",
    "\n",
    "Shortcomings of Standard Gene Expression Analysis in Studying Insect Migration:\n",
    "\n",
    "1. Whole Picture: When we study gene expression in Insects, we often look at all the genes in a particular tissue or organ. However, different parts of a Insect's body, like its brain, muscles, and fat stores, might be doing different things during migration. Standard gene expression analysis might miss these specific changes happening in each part.\n",
    "\n",
    "2. Timing Matters: Insect migration happens in stages, and gene activity might change depending on whether a Insect is getting ready to migrate, actually flying, or settling into a new area. Standard gene expression analysis usually looks at one moment in time, so we might miss how gene activity changes throughout the migration journey.\n",
    "\n",
    "3. Different Cells, Different Jobs: Inside a Insect's body, there are many different types of cells, and each one might play a different role in migration. For example, certain brain cells might help with navigation, while muscle cells are essential for flying. Standard gene expression analysis might mix up all these different cell types, making it hard to see what each one is doing.\n",
    "\n",
    "4. Nature's Influence: Insect's use cues from nature, like changes in daylight or the Earth's magnetic field, to guide their migration. Standard gene expression analysis might not capture how genes respond to these natural signals because it's hard to recreate these conditions in a lab.\n",
    "\n",
    "5. Genetic Variety: Some genes have different versions called isoforms, which can have different functions. Standard gene expression analysis might not pick up on these variations, meaning we might miss important details about how genes help Insects migrate.\n",
    "\n",
    "To overcome these challenges, scientists need to use advanced techniques that allow them to look at genes in different tissues, track changes over time, focus on specific cell types, consider environmental factors, and explore genetic diversity. By using these approaches, we can gain a deeper understanding of how Insects migrate and how we can protect them in the future."
   ]
  },
  {
   "cell_type": "markdown",
   "metadata": {},
   "source": [
    "---\n",
    "\n",
    "### Comparison\n",
    "\n",
    "**Here are some scenarios where RNA-Seq falls short, but single-cell techniques excel:**\n",
    "\n",
    "- Cellular Heterogeneity: In complex tissues, RNA-Seq provides an average expression profile for all cells in the sample, masking differences between individual cells. Single-cell techniques, such as single-cell RNA sequencing (scRNA-seq), allow for the study of gene expression at the resolution of individual cells, unveiling heterogeneity and rare cell populations that might be missed in bulk RNA-Seq.\n",
    "\n",
    "- Cell Type Identification: RNA-Seq relies on the assumption that all cells within a sample have similar gene expression profiles. However, many tissues are composed of diverse cell types with distinct functions. Single-cell techniques enable the identification and characterization of rare cell types, transitional states, and cell subpopulations that might be obscured in bulk RNA-Seq analyses.\n",
    "\n",
    "- Temporal Dynamics: RNA-Seq provides a snapshot of gene expression at a particular time point, limiting the ability to capture dynamic changes over time. Single-cell time-series experiments allow researchers to track gene expression patterns across multiple time points, revealing temporal dynamics, transient states, and regulatory pathways involved in biological processes such as development, differentiation, and response to stimuli.\n",
    "\n",
    "- Spatial Organization: RNA-Seq lacks spatial information about where gene expression occurs within tissues. In contrast, spatial transcriptomics techniques, a type of single-cell analysis, provide spatially resolved gene expression data, allowing researchers to map gene expression patterns within tissue architecture. This enables the identification of spatially distinct cell populations, gradients, and interactions critical for understanding tissue function and development.\n",
    "\n",
    "- Rare Cell Detection: RNA-Seq requires a substantial amount of starting material, limiting its sensitivity to detect rare cell populations or low-abundance transcripts within heterogeneous samples. Single-cell techniques enable the detection and characterization of rare cell types, including circulating tumor cells, stem cells, and immune cell subsets, which are crucial for understanding disease progression, treatment response, and tissue homeostasis.\n",
    "\n",
    "- Cellular States and Trajectories: RNA-Seq provides population-level gene expression averages, masking cellular heterogeneity and dynamic transitions between cellular states. Single-cell trajectory analysis techniques, such as pseudotime inference and trajectory reconstruction, enable the reconstruction of developmental trajectories, lineage relationships, and cell fate decisions, providing insights into cellular differentiation, reprogramming, and disease progression."
   ]
  },
  {
   "cell_type": "markdown",
   "metadata": {},
   "source": [
    "---\n",
    "\n",
    "### Code for Comparison\n",
    "\n",
    "In this section, we'll utilize the Scanpy package, which is a powerful toolkit for analyzing single-cell gene expression data. With Scanpy, you can preprocess your data, visualize it, perform clustering, infer trajectories, and test for differential expression. It's designed to efficiently handle large datasets, even those with more than one million cells."
   ]
  },
  {
   "cell_type": "code",
   "execution_count": null,
   "metadata": {},
   "outputs": [
    {
     "name": "stdout",
     "output_type": "stream",
     "text": [
      "Collecting scanpy\n",
      "  Downloading scanpy-1.9.8-py3-none-any.whl (2.0 MB)\n",
      "\u001b[2K     \u001b[90m━━━━━━━━━━━━━━━━━━━━━━━━━━━━━━━━━━━━━━━━\u001b[0m \u001b[32m2.0/2.0 MB\u001b[0m \u001b[31m19.9 MB/s\u001b[0m eta \u001b[36m0:00:00\u001b[0m\n",
      "\u001b[?25hCollecting anndata>=0.7.4 (from scanpy)\n",
      "  Downloading anndata-0.10.5.post1-py3-none-any.whl (121 kB)\n",
      "\u001b[2K     \u001b[90m━━━━━━━━━━━━━━━━━━━━━━━━━━━━━━━━━━━━━━━━\u001b[0m \u001b[32m121.0/121.0 kB\u001b[0m \u001b[31m14.2 MB/s\u001b[0m eta \u001b[36m0:00:00\u001b[0m\n",
      "\u001b[?25hRequirement already satisfied: h5py>=3 in /usr/local/lib/python3.10/dist-packages (from scanpy) (3.9.0)\n",
      "Requirement already satisfied: joblib in /usr/local/lib/python3.10/dist-packages (from scanpy) (1.3.2)\n",
      "Requirement already satisfied: matplotlib>=3.6 in /usr/local/lib/python3.10/dist-packages (from scanpy) (3.7.1)\n",
      "Requirement already satisfied: natsort in /usr/local/lib/python3.10/dist-packages (from scanpy) (8.4.0)\n",
      "Requirement already satisfied: networkx>=2.3 in /usr/local/lib/python3.10/dist-packages (from scanpy) (3.2.1)\n",
      "Requirement already satisfied: numba>=0.41.0 in /usr/local/lib/python3.10/dist-packages (from scanpy) (0.58.1)\n",
      "Requirement already satisfied: numpy>=1.17.0 in /usr/local/lib/python3.10/dist-packages (from scanpy) (1.23.5)\n",
      "Requirement already satisfied: packaging in /usr/local/lib/python3.10/dist-packages (from scanpy) (23.2)\n",
      "Requirement already satisfied: pandas!=2.1.2,>=1.1.1 in /usr/local/lib/python3.10/dist-packages (from scanpy) (1.5.3)\n",
      "Requirement already satisfied: patsy in /usr/local/lib/python3.10/dist-packages (from scanpy) (0.5.6)\n",
      "Requirement already satisfied: scikit-learn>=0.24 in /usr/local/lib/python3.10/dist-packages (from scanpy) (1.2.2)\n",
      "Requirement already satisfied: scipy>=1.4 in /usr/local/lib/python3.10/dist-packages (from scanpy) (1.11.4)\n",
      "Requirement already satisfied: seaborn>=0.13.0 in /usr/local/lib/python3.10/dist-packages (from scanpy) (0.13.1)\n",
      "Collecting session-info (from scanpy)\n",
      "  Downloading session_info-1.0.0.tar.gz (24 kB)\n",
      "  Preparing metadata (setup.py) ... \u001b[?25l\u001b[?25hdone\n",
      "Requirement already satisfied: statsmodels>=0.10.0rc2 in /usr/local/lib/python3.10/dist-packages (from scanpy) (0.14.1)\n",
      "Requirement already satisfied: tqdm in /usr/local/lib/python3.10/dist-packages (from scanpy) (4.66.1)\n",
      "Collecting umap-learn>=0.3.10 (from scanpy)\n",
      "  Downloading umap-learn-0.5.5.tar.gz (90 kB)\n",
      "\u001b[2K     \u001b[90m━━━━━━━━━━━━━━━━━━━━━━━━━━━━━━━━━━━━━━━━\u001b[0m \u001b[32m90.9/90.9 kB\u001b[0m \u001b[31m10.2 MB/s\u001b[0m eta \u001b[36m0:00:00\u001b[0m\n",
      "\u001b[?25h  Preparing metadata (setup.py) ... \u001b[?25l\u001b[?25hdone\n",
      "Collecting array-api-compat (from anndata>=0.7.4->scanpy)\n",
      "  Downloading array_api_compat-1.4.1-py3-none-any.whl (30 kB)\n",
      "Requirement already satisfied: exceptiongroup in /usr/local/lib/python3.10/dist-packages (from anndata>=0.7.4->scanpy) (1.2.0)\n",
      "Requirement already satisfied: contourpy>=1.0.1 in /usr/local/lib/python3.10/dist-packages (from matplotlib>=3.6->scanpy) (1.2.0)\n",
      "Requirement already satisfied: cycler>=0.10 in /usr/local/lib/python3.10/dist-packages (from matplotlib>=3.6->scanpy) (0.12.1)\n",
      "Requirement already satisfied: fonttools>=4.22.0 in /usr/local/lib/python3.10/dist-packages (from matplotlib>=3.6->scanpy) (4.47.2)\n",
      "Requirement already satisfied: kiwisolver>=1.0.1 in /usr/local/lib/python3.10/dist-packages (from matplotlib>=3.6->scanpy) (1.4.5)\n",
      "Requirement already satisfied: pillow>=6.2.0 in /usr/local/lib/python3.10/dist-packages (from matplotlib>=3.6->scanpy) (9.4.0)\n",
      "Requirement already satisfied: pyparsing>=2.3.1 in /usr/local/lib/python3.10/dist-packages (from matplotlib>=3.6->scanpy) (3.1.1)\n",
      "Requirement already satisfied: python-dateutil>=2.7 in /usr/local/lib/python3.10/dist-packages (from matplotlib>=3.6->scanpy) (2.8.2)\n",
      "Requirement already satisfied: llvmlite<0.42,>=0.41.0dev0 in /usr/local/lib/python3.10/dist-packages (from numba>=0.41.0->scanpy) (0.41.1)\n",
      "Requirement already satisfied: pytz>=2020.1 in /usr/local/lib/python3.10/dist-packages (from pandas!=2.1.2,>=1.1.1->scanpy) (2023.4)\n",
      "Requirement already satisfied: threadpoolctl>=2.0.0 in /usr/local/lib/python3.10/dist-packages (from scikit-learn>=0.24->scanpy) (3.2.0)\n",
      "Requirement already satisfied: six in /usr/local/lib/python3.10/dist-packages (from patsy->scanpy) (1.16.0)\n",
      "Collecting pynndescent>=0.5 (from umap-learn>=0.3.10->scanpy)\n",
      "  Downloading pynndescent-0.5.11-py3-none-any.whl (55 kB)\n",
      "\u001b[2K     \u001b[90m━━━━━━━━━━━━━━━━━━━━━━━━━━━━━━━━━━━━━━━━\u001b[0m \u001b[32m55.8/55.8 kB\u001b[0m \u001b[31m6.8 MB/s\u001b[0m eta \u001b[36m0:00:00\u001b[0m\n",
      "\u001b[?25hCollecting stdlib_list (from session-info->scanpy)\n",
      "  Downloading stdlib_list-0.10.0-py3-none-any.whl (79 kB)\n",
      "\u001b[2K     \u001b[90m━━━━━━━━━━━━━━━━━━━━━━━━━━━━━━━━━━━━━━━━\u001b[0m \u001b[32m79.8/79.8 kB\u001b[0m \u001b[31m10.4 MB/s\u001b[0m eta \u001b[36m0:00:00\u001b[0m\n",
      "\u001b[?25hBuilding wheels for collected packages: umap-learn, session-info\n",
      "  Building wheel for umap-learn (setup.py) ... \u001b[?25l\u001b[?25hdone\n",
      "  Created wheel for umap-learn: filename=umap_learn-0.5.5-py3-none-any.whl size=86832 sha256=35240c90d9dbce66e5d3933dee98984ecd5f421eb988e544348d33a08b303b20\n",
      "  Stored in directory: /root/.cache/pip/wheels/3a/70/07/428d2b58660a1a3b431db59b806a10da736612ebbc66c1bcc5\n",
      "  Building wheel for session-info (setup.py) ... \u001b[?25l\u001b[?25hdone\n",
      "  Created wheel for session-info: filename=session_info-1.0.0-py3-none-any.whl size=8027 sha256=c9b3a2c434ebb7c7b8e66d5952d8ed63ad21fcc010466f1d7f31f6ab3dbbb572\n",
      "  Stored in directory: /root/.cache/pip/wheels/6a/aa/b9/eb5d4031476ec10802795b97ccf937b9bd998d68a9b268765a\n",
      "Successfully built umap-learn session-info\n",
      "Installing collected packages: stdlib_list, array-api-compat, session-info, pynndescent, anndata, umap-learn, scanpy\n",
      "Successfully installed anndata-0.10.5.post1 array-api-compat-1.4.1 pynndescent-0.5.11 scanpy-1.9.8 session-info-1.0.0 stdlib_list-0.10.0 umap-learn-0.5.5\n"
     ]
    }
   ],
   "source": [
    "!pip install scanpy"
   ]
  },
  {
   "cell_type": "code",
   "execution_count": null,
   "metadata": {},
   "outputs": [],
   "source": [
    "import scanpy as sc\n",
    "import anndata as ad\n",
    "import numpy as np\n",
    "import pandas as pd\n",
    "import matplotlib.pyplot as plt\n",
    "import seaborn as sns\n",
    "import scipy.io as sio\n",
    "import gc\n",
    "%reload_ext autoreload\n",
    "%autoreload 2\n",
    "plt.rcParams['figure.figsize']=(8,8) #rescale figures\n",
    "sc.settings.verbosity = 3"
   ]
  },
  {
   "cell_type": "markdown",
   "metadata": {},
   "source": [
    "---\n",
    "\n",
    "### Pre-processing\n",
    "\n",
    "Preprocessing is a crucial step in analyzing single-cell RNA sequencing (scRNA-seq) data. It involves several computational tasks to convert raw sequencing data into a format suitable for further analysis. These tasks include quality control, filtering, normalization, estimating gene expression, and addressing technical artifacts. Proper preprocessing is essential because scRNA-seq data often contain technical noise, dropout events, and batch effects, which can mask the true biological signal. By meticulously preprocessing the data, researchers can enhance the accuracy, reliability, and interpretability of scRNA-seq results, allowing for the discovery of meaningful biological patterns, cell types, and regulatory networks.\n",
    "\n",
    "The general pipeline for scRNA-seq data analysis could be summarized in the following figure: https://drive.google.com/uc?id=1qfTOH9ORfFX09kxSs3MqybMOdYxRVQbP\n",
    "\n",
    "Here, we will use 2 different datasets for different parts. One for Quality Control and Normalization, and another one for Batch Correction. (The second dataset is already normalized)\n",
    "\n",
    "Scanpy works with data types called [`AnnData`](https://anndata.readthedocs.io/en/stable/generated/anndata.AnnData.html#anndata.AnnData).\n"
   ]
  },
  {
   "cell_type": "markdown",
   "metadata": {},
   "source": [
    "The GEO database is a public repository that archives and freely distributes microarray, next-generation sequencing, and other forms of high-throughput functional genomics data submitted by the research community. The identifier \"GSM3017261\" represents a specific sample within a dataset, and \"_150000_CNS_nuclei\" describes source of the sample that belongs to an insect."
   ]
  },
  {
   "cell_type": "code",
   "execution_count": null,
   "metadata": {},
   "outputs": [
    {
     "name": "stdout",
     "output_type": "stream",
     "text": [
      "--2024-02-08 15:24:42--  https://ftp.ncbi.nlm.nih.gov/geo/samples/GSM3017nnn/GSM3017261/suppl/GSM3017261_150000_CNS_nuclei.mat.gz\n",
      "Resolving ftp.ncbi.nlm.nih.gov (ftp.ncbi.nlm.nih.gov)... 130.14.250.11, 130.14.250.12, 2607:f220:41e:250::12, ...\n",
      "Connecting to ftp.ncbi.nlm.nih.gov (ftp.ncbi.nlm.nih.gov)|130.14.250.11|:443... connected.\n",
      "HTTP request sent, awaiting response... 200 OK\n",
      "Length: 227644053 (217M) [application/x-gzip]\n",
      "Saving to: ‘GSM3017261_150000_CNS_nuclei.mat.gz’\n",
      "\n",
      "GSM3017261_150000_C 100%[===================>] 217.10M  16.7MB/s    in 14s     \n",
      "\n",
      "2024-02-08 15:24:57 (15.3 MB/s) - ‘GSM3017261_150000_CNS_nuclei.mat.gz’ saved [227644053/227644053]\n",
      "\n"
     ]
    }
   ],
   "source": [
    "# for single cell\n",
    "!wget https://ftp.ncbi.nlm.nih.gov/geo/samples/GSM3017nnn/GSM3017261/suppl/GSM3017261_150000_CNS_nuclei.mat.gz\n",
    "!gunzip *.gz"
   ]
  },
  {
   "cell_type": "code",
   "execution_count": null,
   "metadata": {},
   "outputs": [
    {
     "name": "stdout",
     "output_type": "stream",
     "text": [
      "Cloning into 'Bio-final-project'...\n",
      "remote: Enumerating objects: 16, done.\u001b[K\n",
      "remote: Counting objects: 100% (16/16), done.\u001b[K\n",
      "remote: Compressing objects: 100% (11/11), done.\u001b[K\n",
      "remote: Total 16 (delta 0), reused 13 (delta 0), pack-reused 0\u001b[K\n",
      "Receiving objects: 100% (16/16), 1.62 MiB | 4.18 MiB/s, done.\n"
     ]
    }
   ],
   "source": [
    "# for RNA-seq\n",
    "!git clone https://github.com/amir-reza-tavakkoli/Bio-final-project.git"
   ]
  }
 ],
 "metadata": {
  "language_info": {
   "name": "python"
  }
 },
 "nbformat": 4,
 "nbformat_minor": 2
}
